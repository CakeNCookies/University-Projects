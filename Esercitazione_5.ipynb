{
 "cells": [
  {
   "cell_type": "code",
   "execution_count": 1,
   "metadata": {},
   "outputs": [],
   "source": [
    "import cv2 as cv"
   ]
  },
  {
   "cell_type": "markdown",
   "metadata": {},
   "source": [
    "### Method 1: reads a video frame by frame and saves only the even frames in a folder"
   ]
  },
  {
   "cell_type": "code",
   "execution_count": 5,
   "metadata": {},
   "outputs": [],
   "source": [
    "capture = cv.VideoCapture('kitten.mp4')\n",
    "ctr = 1\n",
    "while True:\n",
    "    isTrue, frame = capture.read()\n",
    "    if ctr%2 == 0:\n",
    "        try:\n",
    "            cv.imwrite((str(ctr)+'.jpg'), frame)\n",
    "        except:\n",
    "            break\n",
    "    ctr = ctr + 1\n",
    "\n",
    "capture.release()\n"
   ]
  },
  {
   "cell_type": "markdown",
   "metadata": {},
   "source": [
    "### Apply in even frames the negative function and to the odd frames any other operation. Show and save the final video"
   ]
  },
  {
   "cell_type": "code",
   "execution_count": 14,
   "metadata": {},
   "outputs": [],
   "source": [
    "capture = cv.VideoCapture('kitten.mp4')\n",
    "\n",
    "width= int(capture.get(cv.CAP_PROP_FRAME_WIDTH))\n",
    "height= int(capture.get(cv.CAP_PROP_FRAME_HEIGHT))\n",
    "   \n",
    "size = (width, height) \n",
    "\n",
    "ctr = 1\n",
    "result = cv.VideoWriter('newvid.avi', cv.VideoWriter_fourcc(*'MJPG'), \n",
    "                         10, size)\n",
    "while True:\n",
    "    isTrue, frame = capture.read()\n",
    "    if ctr%2 == 0:\n",
    "        try:\n",
    "            frame = cv.bitwise_not(frame)\n",
    "            result.write(frame)\n",
    "            cv.imshow('Video', frame)\n",
    "            if cv.waitKey(20) & 0xFF==ord('d'):\n",
    "                break\n",
    "        except:\n",
    "            break\n",
    "    else:\n",
    "        try:\n",
    "\n",
    "            result.write(frame)\n",
    "            cv.imshow('Video', frame)\n",
    "            if cv.waitKey(20) & 0xFF==ord('d'):\n",
    "                break\n",
    "        except:\n",
    "            break\n",
    "        \n",
    "    ctr = ctr + 1\n",
    "\n",
    "capture.release()\n",
    "result.release()\n",
    "cv.destroyAllWindows()"
   ]
  },
  {
   "cell_type": "markdown",
   "metadata": {},
   "source": [
    "### Extract the I, P, B frames and save them in 3 different folders"
   ]
  },
  {
   "cell_type": "code",
   "execution_count": 15,
   "metadata": {},
   "outputs": [],
   "source": []
  }
 ],
 "metadata": {
  "kernelspec": {
   "display_name": "Python 3",
   "language": "python",
   "name": "python3"
  },
  "language_info": {
   "codemirror_mode": {
    "name": "ipython",
    "version": 3
   },
   "file_extension": ".py",
   "mimetype": "text/x-python",
   "name": "python",
   "nbconvert_exporter": "python",
   "pygments_lexer": "ipython3",
   "version": "3.10.0"
  }
 },
 "nbformat": 4,
 "nbformat_minor": 2
}
